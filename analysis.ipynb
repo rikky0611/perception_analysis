{
 "cells": [
  {
   "cell_type": "markdown",
   "metadata": {
    "collapsed": false
   },
   "source": [
    "## 生体信号処理[知覚]\n",
    "知覚のゲームから、反応可能な知覚の閾値を最尤推定によって求める。        \n",
    "知覚強度xに対応する精度確率をロジットモデルに当てはめ、そのパラメータ beta0, beta1 を事後確率を最大にすることから決定する。"
   ]
  },
  {
   "cell_type": "code",
   "execution_count": 18,
   "metadata": {
    "collapsed": true
   },
   "outputs": [],
   "source": [
    "%matplotlib inline\n",
    "import glob\n",
    "files_dir = glob.glob('./vp/*.dat')\n",
    "import numpy as np\n",
    "import math\n",
    "import matplotlib.pyplot as plt\n",
    "from scipy.optimize import fmin"
   ]
  },
  {
   "cell_type": "code",
   "execution_count": 22,
   "metadata": {
    "collapsed": true
   },
   "outputs": [],
   "source": [
    "def get_threshold(file):\n",
    "    print(\"file:\", file)\n",
    "    xs = [-10-4.1*i for i in range(10)]\n",
    "    dic = {1:0, 2:0, 3:0, 4:0, 5:0, 6:0 ,7:0, 8:0, 9:0, 10:0}\n",
    "    N = 10\n",
    "    \n",
    "    # 正答回数をtsvファイルからロード\n",
    "    with open(file, 'r') as f:\n",
    "        for l in f:\n",
    "            ls = l.split()\n",
    "            strongness = float(ls[2])  #視覚強度\n",
    "            is_correct = ls[4] #正答ラベリング\n",
    "            if is_correct=='1':\n",
    "                for i in range(10):\n",
    "                    if strongness > -10-4.1*(i+1):\n",
    "                        dic[i+1] += 1\n",
    "                        break\n",
    "    \n",
    "    # 最尤推定\n",
    "    def nCr(n,r):\n",
    "        return math.factorial(n) / math.factorial(n-r) / math.factorial(r)\n",
    "    \n",
    "    def calc_log_p(n, x, b_0, b_1):\n",
    "        s = b_0+b_1*x\n",
    "        return np.log(nCr(N,n))+n*s-N*(np.log(1+np.exp(s)))\n",
    "\n",
    "    def calc_target(ns, xs, b_0, b_1):\n",
    "        ret = 0\n",
    "        for n, x in zip(ns, xs):\n",
    "            _p = calc_log_p(n, x, b_0, b_1)\n",
    "            ret -= _p\n",
    "        return ret\n",
    "\n",
    "    def fun(x):\n",
    "        return calc_target(ns, xs, x[0], x[1])\n",
    "    \n",
    "    ns = dic.values()\n",
    "    b = fmin(fun, [1, 1])\n",
    "    print(\"正答回数\", ns)\n",
    "    print(\"beta: \", b)\n",
    "    \n",
    "    # ロジットモデルにあてはめ確率をplot\n",
    "    ps = []\n",
    "    for x in xs:\n",
    "        s = b[0]+b[1]*x\n",
    "        _p = np.exp(s) / (1+np.exp(s))\n",
    "        ps.append(_p)\n",
    "    \n",
    "    plt.xlabel(\"Strongness[dB]\")\n",
    "    plt.ylabel(\"Accuracy\")\n",
    "    plt.plot(xs, ps)\n",
    "    plt.show()\n",
    "    \n",
    "    \n",
    "    print(\"75%threshold: \", (np.log(3)-b[0])/b[1])"
   ]
  },
  {
   "cell_type": "code",
   "execution_count": 21,
   "metadata": {
    "collapsed": false
   },
   "outputs": [
    {
     "name": "stdout",
     "output_type": "stream",
     "text": [
      "file: ./vp/fuk_arakawa.dat\n",
      "Optimization terminated successfully.\n",
      "         Current function value: 8.067377\n",
      "         Iterations: 73\n",
      "         Function evaluations: 138\n",
      "正答回数 dict_values([10, 10, 10, 10, 10, 9, 9, 5, 6, 4])\n",
      "beta:  [ 8.64183695  0.19921196]\n"
     ]
    },
    {
     "data": {
      "image/png": "[encoded data removed]",
      "text/plain": [
       "<matplotlib.figure.Figure at 0x110cc9ba8>"
      ]
     },
     "metadata": {},
     "output_type": "display_data"
    },
    {
     "name": "stdout",
     "output_type": "stream",
     "text": [
      "75%threshold:  -37.8653197946\n"
     ]
    }
   ],
   "source": [
    "get_threshold(files_dir[0])"
   ]
  }
 ],
 "metadata": {
  "kernelspec": {
   "display_name": "Python 3",
   "language": "python",
   "name": "python3"
  },
  "language_info": {
   "codemirror_mode": {
    "name": "ipython",
    "version": 3
   },
   "file_extension": ".py",
   "mimetype": "text/x-python",
   "name": "python",
   "nbconvert_exporter": "python",
   "pygments_lexer": "ipython3",
   "version": "3.5.1"
  }
 },
 "nbformat": 4,
 "nbformat_minor": 0
}
